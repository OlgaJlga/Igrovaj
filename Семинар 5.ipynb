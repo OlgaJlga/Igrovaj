{
  "nbformat": 4,
  "nbformat_minor": 0,
  "metadata": {
    "colab": {
      "provenance": []
    },
    "kernelspec": {
      "name": "python3",
      "display_name": "Python 3"
    },
    "language_info": {
      "name": "python"
    }
  },
  "cells": [
    {
      "cell_type": "markdown",
      "source": [
        "# Загружаем исходные данные к сегодняшнему семинару ✈"
      ],
      "metadata": {
        "id": "DpWEcW35bc1z"
      }
    },
    {
      "cell_type": "code",
      "execution_count": null,
      "metadata": {
        "id": "n5VkGFkSbaVd",
        "colab": {
          "base_uri": "https://localhost:8080/",
          "height": 144
        },
        "outputId": "c5549180-cc31-47ce-a4ae-a4780ca6bf91"
      },
      "outputs": [
        {
          "output_type": "display_data",
          "data": {
            "text/plain": [
              "<IPython.core.display.HTML object>"
            ],
            "text/html": [
              "\n",
              "     <input type=\"file\" id=\"files-a797e42e-d5dc-44e0-a260-7ca39658d196\" name=\"files[]\" multiple disabled\n",
              "        style=\"border:none\" />\n",
              "     <output id=\"result-a797e42e-d5dc-44e0-a260-7ca39658d196\">\n",
              "      Upload widget is only available when the cell has been executed in the\n",
              "      current browser session. Please rerun this cell to enable.\n",
              "      </output>\n",
              "      <script>// Copyright 2017 Google LLC\n",
              "//\n",
              "// Licensed under the Apache License, Version 2.0 (the \"License\");\n",
              "// you may not use this file except in compliance with the License.\n",
              "// You may obtain a copy of the License at\n",
              "//\n",
              "//      http://www.apache.org/licenses/LICENSE-2.0\n",
              "//\n",
              "// Unless required by applicable law or agreed to in writing, software\n",
              "// distributed under the License is distributed on an \"AS IS\" BASIS,\n",
              "// WITHOUT WARRANTIES OR CONDITIONS OF ANY KIND, either express or implied.\n",
              "// See the License for the specific language governing permissions and\n",
              "// limitations under the License.\n",
              "\n",
              "/**\n",
              " * @fileoverview Helpers for google.colab Python module.\n",
              " */\n",
              "(function(scope) {\n",
              "function span(text, styleAttributes = {}) {\n",
              "  const element = document.createElement('span');\n",
              "  element.textContent = text;\n",
              "  for (const key of Object.keys(styleAttributes)) {\n",
              "    element.style[key] = styleAttributes[key];\n",
              "  }\n",
              "  return element;\n",
              "}\n",
              "\n",
              "// Max number of bytes which will be uploaded at a time.\n",
              "const MAX_PAYLOAD_SIZE = 100 * 1024;\n",
              "\n",
              "function _uploadFiles(inputId, outputId) {\n",
              "  const steps = uploadFilesStep(inputId, outputId);\n",
              "  const outputElement = document.getElementById(outputId);\n",
              "  // Cache steps on the outputElement to make it available for the next call\n",
              "  // to uploadFilesContinue from Python.\n",
              "  outputElement.steps = steps;\n",
              "\n",
              "  return _uploadFilesContinue(outputId);\n",
              "}\n",
              "\n",
              "// This is roughly an async generator (not supported in the browser yet),\n",
              "// where there are multiple asynchronous steps and the Python side is going\n",
              "// to poll for completion of each step.\n",
              "// This uses a Promise to block the python side on completion of each step,\n",
              "// then passes the result of the previous step as the input to the next step.\n",
              "function _uploadFilesContinue(outputId) {\n",
              "  const outputElement = document.getElementById(outputId);\n",
              "  const steps = outputElement.steps;\n",
              "\n",
              "  const next = steps.next(outputElement.lastPromiseValue);\n",
              "  return Promise.resolve(next.value.promise).then((value) => {\n",
              "    // Cache the last promise value to make it available to the next\n",
              "    // step of the generator.\n",
              "    outputElement.lastPromiseValue = value;\n",
              "    return next.value.response;\n",
              "  });\n",
              "}\n",
              "\n",
              "/**\n",
              " * Generator function which is called between each async step of the upload\n",
              " * process.\n",
              " * @param {string} inputId Element ID of the input file picker element.\n",
              " * @param {string} outputId Element ID of the output display.\n",
              " * @return {!Iterable<!Object>} Iterable of next steps.\n",
              " */\n",
              "function* uploadFilesStep(inputId, outputId) {\n",
              "  const inputElement = document.getElementById(inputId);\n",
              "  inputElement.disabled = false;\n",
              "\n",
              "  const outputElement = document.getElementById(outputId);\n",
              "  outputElement.innerHTML = '';\n",
              "\n",
              "  const pickedPromise = new Promise((resolve) => {\n",
              "    inputElement.addEventListener('change', (e) => {\n",
              "      resolve(e.target.files);\n",
              "    });\n",
              "  });\n",
              "\n",
              "  const cancel = document.createElement('button');\n",
              "  inputElement.parentElement.appendChild(cancel);\n",
              "  cancel.textContent = 'Cancel upload';\n",
              "  const cancelPromise = new Promise((resolve) => {\n",
              "    cancel.onclick = () => {\n",
              "      resolve(null);\n",
              "    };\n",
              "  });\n",
              "\n",
              "  // Wait for the user to pick the files.\n",
              "  const files = yield {\n",
              "    promise: Promise.race([pickedPromise, cancelPromise]),\n",
              "    response: {\n",
              "      action: 'starting',\n",
              "    }\n",
              "  };\n",
              "\n",
              "  cancel.remove();\n",
              "\n",
              "  // Disable the input element since further picks are not allowed.\n",
              "  inputElement.disabled = true;\n",
              "\n",
              "  if (!files) {\n",
              "    return {\n",
              "      response: {\n",
              "        action: 'complete',\n",
              "      }\n",
              "    };\n",
              "  }\n",
              "\n",
              "  for (const file of files) {\n",
              "    const li = document.createElement('li');\n",
              "    li.append(span(file.name, {fontWeight: 'bold'}));\n",
              "    li.append(span(\n",
              "        `(${file.type || 'n/a'}) - ${file.size} bytes, ` +\n",
              "        `last modified: ${\n",
              "            file.lastModifiedDate ? file.lastModifiedDate.toLocaleDateString() :\n",
              "                                    'n/a'} - `));\n",
              "    const percent = span('0% done');\n",
              "    li.appendChild(percent);\n",
              "\n",
              "    outputElement.appendChild(li);\n",
              "\n",
              "    const fileDataPromise = new Promise((resolve) => {\n",
              "      const reader = new FileReader();\n",
              "      reader.onload = (e) => {\n",
              "        resolve(e.target.result);\n",
              "      };\n",
              "      reader.readAsArrayBuffer(file);\n",
              "    });\n",
              "    // Wait for the data to be ready.\n",
              "    let fileData = yield {\n",
              "      promise: fileDataPromise,\n",
              "      response: {\n",
              "        action: 'continue',\n",
              "      }\n",
              "    };\n",
              "\n",
              "    // Use a chunked sending to avoid message size limits. See b/62115660.\n",
              "    let position = 0;\n",
              "    do {\n",
              "      const length = Math.min(fileData.byteLength - position, MAX_PAYLOAD_SIZE);\n",
              "      const chunk = new Uint8Array(fileData, position, length);\n",
              "      position += length;\n",
              "\n",
              "      const base64 = btoa(String.fromCharCode.apply(null, chunk));\n",
              "      yield {\n",
              "        response: {\n",
              "          action: 'append',\n",
              "          file: file.name,\n",
              "          data: base64,\n",
              "        },\n",
              "      };\n",
              "\n",
              "      let percentDone = fileData.byteLength === 0 ?\n",
              "          100 :\n",
              "          Math.round((position / fileData.byteLength) * 100);\n",
              "      percent.textContent = `${percentDone}% done`;\n",
              "\n",
              "    } while (position < fileData.byteLength);\n",
              "  }\n",
              "\n",
              "  // All done.\n",
              "  yield {\n",
              "    response: {\n",
              "      action: 'complete',\n",
              "    }\n",
              "  };\n",
              "}\n",
              "\n",
              "scope.google = scope.google || {};\n",
              "scope.google.colab = scope.google.colab || {};\n",
              "scope.google.colab._files = {\n",
              "  _uploadFiles,\n",
              "  _uploadFilesContinue,\n",
              "};\n",
              "})(self);\n",
              "</script> "
            ]
          },
          "metadata": {}
        },
        {
          "output_type": "stream",
          "name": "stdout",
          "text": [
            "Saving dataset.csv to dataset.csv\n",
            "Saving dataset_ad.csv to dataset_ad.csv\n",
            "Saving dataset_cost.csv to dataset_cost.csv\n"
          ]
        }
      ],
      "source": [
        "from google.colab import files\n",
        "uploaded = files.upload()"
      ]
    },
    {
      "cell_type": "code",
      "source": [
        "import io\n",
        "import pandas as pd\n",
        "\n",
        "df = pd.read_csv(io.BytesIO(uploaded['dataset (2).csv']))\n",
        "df_spend = pd.read_csv(io.BytesIO(uploaded['dataset_cost (2).csv']))\n",
        "df_ads = pd.read_csv(io.BytesIO(uploaded['dataset_ad (2).csv']))\n",
        "\n",
        "display(df)\n",
        "display(df_spend)\n",
        "display(df_ads)"
      ],
      "metadata": {
        "colab": {
          "base_uri": "https://localhost:8080/",
          "height": 254
        },
        "id": "qq602s4EUYlX",
        "outputId": "b32e09a0-6c40-4c34-c5d9-c4ae64fc4b12"
      },
      "execution_count": null,
      "outputs": [
        {
          "output_type": "error",
          "ename": "KeyError",
          "evalue": "'dataset (1).csv'",
          "traceback": [
            "\u001b[0;31m---------------------------------------------------------------------------\u001b[0m",
            "\u001b[0;31mKeyError\u001b[0m                                  Traceback (most recent call last)",
            "\u001b[0;32m<ipython-input-2-d67172a62841>\u001b[0m in \u001b[0;36m<cell line: 4>\u001b[0;34m()\u001b[0m\n\u001b[1;32m      2\u001b[0m \u001b[0;32mimport\u001b[0m \u001b[0mpandas\u001b[0m \u001b[0;32mas\u001b[0m \u001b[0mpd\u001b[0m\u001b[0;34m\u001b[0m\u001b[0;34m\u001b[0m\u001b[0m\n\u001b[1;32m      3\u001b[0m \u001b[0;34m\u001b[0m\u001b[0m\n\u001b[0;32m----> 4\u001b[0;31m \u001b[0mdf\u001b[0m \u001b[0;34m=\u001b[0m \u001b[0mpd\u001b[0m\u001b[0;34m.\u001b[0m\u001b[0mread_csv\u001b[0m\u001b[0;34m(\u001b[0m\u001b[0mio\u001b[0m\u001b[0;34m.\u001b[0m\u001b[0mBytesIO\u001b[0m\u001b[0;34m(\u001b[0m\u001b[0muploaded\u001b[0m\u001b[0;34m[\u001b[0m\u001b[0;34m'dataset (1).csv'\u001b[0m\u001b[0;34m]\u001b[0m\u001b[0;34m)\u001b[0m\u001b[0;34m)\u001b[0m\u001b[0;34m\u001b[0m\u001b[0;34m\u001b[0m\u001b[0m\n\u001b[0m\u001b[1;32m      5\u001b[0m \u001b[0mdf_spend\u001b[0m \u001b[0;34m=\u001b[0m \u001b[0mpd\u001b[0m\u001b[0;34m.\u001b[0m\u001b[0mread_csv\u001b[0m\u001b[0;34m(\u001b[0m\u001b[0mio\u001b[0m\u001b[0;34m.\u001b[0m\u001b[0mBytesIO\u001b[0m\u001b[0;34m(\u001b[0m\u001b[0muploaded\u001b[0m\u001b[0;34m[\u001b[0m\u001b[0;34m'dataset_cost (1).csv'\u001b[0m\u001b[0;34m]\u001b[0m\u001b[0;34m)\u001b[0m\u001b[0;34m)\u001b[0m\u001b[0;34m\u001b[0m\u001b[0;34m\u001b[0m\u001b[0m\n\u001b[1;32m      6\u001b[0m \u001b[0mdf_ads\u001b[0m \u001b[0;34m=\u001b[0m \u001b[0mpd\u001b[0m\u001b[0;34m.\u001b[0m\u001b[0mread_csv\u001b[0m\u001b[0;34m(\u001b[0m\u001b[0mio\u001b[0m\u001b[0;34m.\u001b[0m\u001b[0mBytesIO\u001b[0m\u001b[0;34m(\u001b[0m\u001b[0muploaded\u001b[0m\u001b[0;34m[\u001b[0m\u001b[0;34m'dataset_ad (1).csv'\u001b[0m\u001b[0;34m]\u001b[0m\u001b[0;34m)\u001b[0m\u001b[0;34m)\u001b[0m\u001b[0;34m\u001b[0m\u001b[0;34m\u001b[0m\u001b[0m\n",
            "\u001b[0;31mKeyError\u001b[0m: 'dataset (1).csv'"
          ]
        }
      ]
    },
    {
      "cell_type": "markdown",
      "source": [
        "# Сравнение метрик органики и закупки по когортам ⛲"
      ],
      "metadata": {
        "id": "2JIx44BTd7dm"
      }
    },
    {
      "cell_type": "code",
      "source": [
        "df['event_date'] = pd.to_datetime(df['event_date'])\n",
        "df['install_date'] = pd.to_datetime(df['install_date'])\n",
        "\n",
        "df['start_of_week'] = df['install_date'] - pd.to_timedelta(df['install_date'].dt.dayofweek, unit='d')"
      ],
      "metadata": {
        "id": "KuEYMAoS0lsr"
      },
      "execution_count": null,
      "outputs": []
    },
    {
      "cell_type": "code",
      "source": [
        "df_compare = df[df['install_date'] >= '2022-04-01'].groupby(['start_of_week', 'is_organic'], as_index = False).agg({'appsflyer_id':'nunique', 'revenue_usd':'sum', 'ad_revenue_usd':'sum', 'payments':'sum'}).rename(columns = {'appsflyer_id':'installs'})\n",
        "\n",
        "df_compare"
      ],
      "metadata": {
        "id": "SM7Isne10O8R"
      },
      "execution_count": null,
      "outputs": []
    },
    {
      "cell_type": "markdown",
      "source": [
        "Дополним полученные результаты метриками общей выручки и LTV (RPI), а также посчитаем net LTV, с условием channel cost: для iap выручки channel cost = 15%, для рекламной монетизации = 5%."
      ],
      "metadata": {
        "id": "QbLj-5PI1oCL"
      }
    },
    {
      "cell_type": "code",
      "source": [
        "df_compare['total_revenue_gross'] = df_compare['revenue_usd'] + df_compare['ad_revenue_usd']\n",
        "df_compare['ltv_gross'] = df_compare['total_revenue_gross'] / df_compare['installs']\n",
        "df_compare['payments_per_user'] = df_compare['payments'] / df_compare['installs']\n",
        "\n",
        "df_compare['total_revenue_net'] = df_compare['revenue_usd']*0.85 + df_compare['ad_revenue_usd']*0.95\n",
        "df_compare['ltv_net'] = df_compare['total_revenue_net'] / df_compare['installs']\n",
        "\n",
        "df_compare"
      ],
      "metadata": {
        "id": "GJwJCaqy1ncv"
      },
      "execution_count": null,
      "outputs": []
    },
    {
      "cell_type": "markdown",
      "source": [
        "Посмотрим также какой вклад в общую выручку дают внутренние покупки и рекламная монетизация."
      ],
      "metadata": {
        "id": "7T_o2Fed47Kz"
      }
    },
    {
      "cell_type": "code",
      "source": [
        "df_compare['iap_share'] = df_compare['revenue_usd'] / df_compare['total_revenue_gross']\n",
        "df_compare['ads_share'] = df_compare['ad_revenue_usd'] / df_compare['total_revenue_gross']\n",
        "\n",
        "df_compare"
      ],
      "metadata": {
        "id": "qkcDtik-5DUd"
      },
      "execution_count": null,
      "outputs": []
    },
    {
      "cell_type": "markdown",
      "source": [
        "Построим графики, чтобы сравнить метрики органики и трафика между собой. Какие выводы можно сделать из полученных результатов?"
      ],
      "metadata": {
        "id": "WJ6yHzpr5Xii"
      }
    },
    {
      "cell_type": "code",
      "source": [
        "import plotly.express as px\n",
        "\n",
        "fig_installs = px.line(df_compare, x = 'start_of_week', y = 'installs', color = 'is_organic')\n",
        "fig_installs.show()"
      ],
      "metadata": {
        "id": "B7RUcG1E50be"
      },
      "execution_count": null,
      "outputs": []
    },
    {
      "cell_type": "code",
      "source": [
        "fig_ltv_gross = px.bar(df_compare, x = 'start_of_week', y = 'ltv_gross', color = 'is_organic', barmode = 'group')\n",
        "fig_ltv_gross.show()"
      ],
      "metadata": {
        "id": "EITUKkB75hl3"
      },
      "execution_count": null,
      "outputs": []
    },
    {
      "cell_type": "code",
      "source": [
        "fig_ltv_net = px.bar(df_compare, x = 'start_of_week', y = 'ltv_net', color = 'is_organic', barmode = 'group')\n",
        "fig_ltv_net.show()"
      ],
      "metadata": {
        "id": "EDotm5sN6BQA"
      },
      "execution_count": null,
      "outputs": []
    },
    {
      "cell_type": "code",
      "source": [
        "fig_iap_share = px.line(df_compare, x = 'start_of_week', y = 'iap_share', color = 'is_organic')\n",
        "fig_iap_share.show()"
      ],
      "metadata": {
        "id": "45nvbluF6NH7"
      },
      "execution_count": null,
      "outputs": []
    },
    {
      "cell_type": "code",
      "source": [
        "fig_ads_share = px.line(df_compare, x = 'start_of_week', y = 'ads_share', color = 'is_organic')\n",
        "fig_ads_share.show()"
      ],
      "metadata": {
        "id": "k0ibv1Ps6W6v"
      },
      "execution_count": null,
      "outputs": []
    },
    {
      "cell_type": "markdown",
      "source": [
        "Какие выводы можно сделать при сравнении монетизационных метрик когорт органики и закупки?"
      ],
      "metadata": {
        "id": "1QLqk_DbhjBU"
      }
    },
    {
      "cell_type": "markdown",
      "source": [
        "Какие еще метрики было бы интересно сравнить для когорт органики и закупки на ваш взгляд? 🤷"
      ],
      "metadata": {
        "id": "OF4l7fD3iSrE"
      }
    },
    {
      "cell_type": "markdown",
      "source": [
        "Посмотрим какая кампания перформила лучше всего, для этого нам нужно знать маркетинговые затраты по каждой из кампаний."
      ],
      "metadata": {
        "id": "Zs8sl1IyK1LV"
      }
    },
    {
      "cell_type": "code",
      "source": [
        "df_users = df[(df['is_organic'] == False) & (df['install_date'] >= '2022-04-01')].groupby(['appsflyer_id', 'campaign_name'], as_index = False).agg({'revenue_usd':'sum', 'ad_revenue_usd':'sum'})\n",
        "df_users"
      ],
      "metadata": {
        "id": "gOl022KVMH26"
      },
      "execution_count": null,
      "outputs": []
    },
    {
      "cell_type": "code",
      "source": [
        "df_campaigns = pd.merge(df_users, df_spend, on='appsflyer_id')\n",
        "df_campaigns"
      ],
      "metadata": {
        "id": "HtB0iQLYKzAl"
      },
      "execution_count": null,
      "outputs": []
    },
    {
      "cell_type": "code",
      "source": [
        "df_campaigns = df_campaigns.groupby('campaign_name').agg({'appsflyer_id':'nunique', 'user_cost':'sum', 'revenue_usd':'sum', 'ad_revenue_usd':'sum'}).rename(columns = {'appsflyer_id':'installs'})\n",
        "df_campaigns"
      ],
      "metadata": {
        "id": "UKRvDK38L7Fd"
      },
      "execution_count": null,
      "outputs": []
    },
    {
      "cell_type": "markdown",
      "source": [
        "Рассчитаем маржинальность кампаний через ROAS, в котором учитывается net LTV."
      ],
      "metadata": {
        "id": "Yn3lvPiFNI_c"
      }
    },
    {
      "cell_type": "code",
      "source": [
        "df_campaigns['roas'] = (df_campaigns['revenue_usd']*0.85 + df_campaigns['ad_revenue_usd']*0.95)*100/df_campaigns['user_cost']\n",
        "\n",
        "df_campaigns = df_campaigns.sort_values(by = 'roas', ascending = False)\n",
        "df_campaigns"
      ],
      "metadata": {
        "id": "0XA3iCThNWk1"
      },
      "execution_count": null,
      "outputs": []
    },
    {
      "cell_type": "markdown",
      "source": [
        "Что можно сказать о полученных результатах?"
      ],
      "metadata": {
        "id": "YZLUituuN3FI"
      }
    },
    {
      "cell_type": "markdown",
      "source": [
        "# Инкрементальность ⛅"
      ],
      "metadata": {
        "id": "O4rRcqbjikny"
      }
    },
    {
      "cell_type": "markdown",
      "source": [
        "Из полученных результатов выше мы видим, что в данных есть некоторые погрешности с атрибуцированием пользователей и часть инсталлов, которые промаркированы в данных как \"органика\" имеют маркетинговый кост.\n",
        "\n",
        "Возможны два основных варианта: один и тот же пользователь в части данных промаркирован как органический, но в то же время в некоторых записях указан как трафик и таким образом имеем дубли по пользователям.\n",
        "\n",
        "Второй вариант - пользователь в агрегированных дневных данных промаркирован как органический, а в данных по костам имеет спенд, тогда имеем ошибку в атрибуцировании пользователей в агрегированных данных."
      ],
      "metadata": {
        "id": "zL6cD1idi72M"
      }
    },
    {
      "cell_type": "markdown",
      "source": [
        "Проверим, есть ли в агрегированных данных пользователи, у которых есть две и более кампаний."
      ],
      "metadata": {
        "id": "_yX_aDzNPfWv"
      }
    },
    {
      "cell_type": "code",
      "source": [
        "df_check = df.groupby('appsflyer_id', as_index = False).agg({'campaign_name':'nunique'}).rename(columns = {'campaign_name':'campaigns'})\n",
        "df_check = df_check.sort_values(by = 'campaigns', ascending = False)\n",
        "\n",
        "df_check"
      ],
      "metadata": {
        "id": "OSJHPbvWPm-n"
      },
      "execution_count": null,
      "outputs": []
    },
    {
      "cell_type": "markdown",
      "source": [
        "Очевидно в данных присутствуют дубли по атрибуцированию пользователей, посмотрим их долю."
      ],
      "metadata": {
        "id": "vaKROjAlQLkC"
      }
    },
    {
      "cell_type": "code",
      "source": [
        "df_check = df_check.groupby('campaigns', as_index = False).agg({'appsflyer_id':'nunique'}).rename(columns = {'appsflyer_id':'users'})\n",
        "df_check"
      ],
      "metadata": {
        "id": "Kf4p4ZatQSZb"
      },
      "execution_count": null,
      "outputs": []
    },
    {
      "cell_type": "markdown",
      "source": [
        "Какие выводы можно сделать из полученных результатов? Каким образом стоит работать с инсталлами в данном случае, на ваш взгляд?"
      ],
      "metadata": {
        "id": "4yupgAzbmZbT"
      }
    },
    {
      "cell_type": "markdown",
      "source": [
        "# Сравнение метрик рекламных сеток"
      ],
      "metadata": {
        "id": "paOlyxwXmo1z"
      }
    },
    {
      "cell_type": "markdown",
      "source": [
        "Давайте посмотрим какие сетки крутят рекламу для пользователей из США и сравним их метрики 🌍"
      ],
      "metadata": {
        "id": "xUtp11RAop4R"
      }
    },
    {
      "cell_type": "code",
      "source": [
        "df_ads = df_ads[df_ads['country_code'] == 'US'].groupby('ad_network', as_index=False).agg({'impressions':'sum', 'revenue_usd':'sum'})\n",
        "df_ads['ecpm'] = df_ads['revenue_usd']*1000/df_ads['impressions']\n",
        "\n",
        "df_ads"
      ],
      "metadata": {
        "id": "PgRnS_jPQsFV"
      },
      "execution_count": null,
      "outputs": []
    },
    {
      "cell_type": "markdown",
      "source": [
        "Какая из сеток перформит лучше всего? ♥"
      ],
      "metadata": {
        "id": "HzLW-0Taq3t1"
      }
    },
    {
      "cell_type": "markdown",
      "source": [
        "# **Домашнее задание:**\n",
        "\n",
        "Какие выводы можно сделать при сравнении монетизационных метрик когорт органики и закупки?\n",
        "\n",
        "Посчитайте дополнительные показатели, если необходимо\n",
        "\n",
        "И напишите выводы по вопросам из воркбука семинара"
      ],
      "metadata": {
        "id": "LdcTLSbWQ1Gg"
      }
    },
    {
      "cell_type": "markdown",
      "source": [
        "Посмотрим внутренние покупки и рекламную монетизацию по каждой из кампаний."
      ],
      "metadata": {
        "id": "jhPoaxrswU4J"
      }
    },
    {
      "cell_type": "code",
      "source": [
        "df_compare_camp = df_users.groupby(['campaign_name'], as_index = False).agg({'appsflyer_id':'nunique', 'revenue_usd':'sum', 'ad_revenue_usd':'sum'}).rename(columns = {'appsflyer_id':'installs'})\n",
        "\n",
        "df_compare_camp"
      ],
      "metadata": {
        "id": "WFbKgct6SGdO"
      },
      "execution_count": null,
      "outputs": []
    },
    {
      "cell_type": "markdown",
      "source": [
        "Для того, чтобы получить чистые данные при расчете метрик привяжем к каждому пользователю одну версию - ту, с которой он зашел в игру"
      ],
      "metadata": {
        "id": "sDqCNXj8yicj"
      }
    },
    {
      "cell_type": "code",
      "source": [
        "df_start_ver = df[df['event_date'] == df['install_date']][['appsflyer_id', 'app_version']].rename(columns = {'app_version':'start_version'})\n",
        "df = pd.merge(df, df_start_ver, on='appsflyer_id')\n",
        "df"
      ],
      "metadata": {
        "id": "unSbirRtyXvf"
      },
      "execution_count": null,
      "outputs": []
    },
    {
      "cell_type": "markdown",
      "source": [
        "Так как мы будем рассчитывать в том числе retention rate и LTV по каждой из версий, нам необходимо ограничить датасет временными рамками по когортам срок жизни которых достиг 30 дней и более. Напомним, что максимальный event date = 2022-07-31"
      ],
      "metadata": {
        "id": "1UZzi7mY1i3i"
      }
    },
    {
      "cell_type": "code",
      "source": [
        "df_versions = df[(df['install_date'] >= '2022-04-01') & (df['install_date'] <= '2022-07-01')][['event_date', 'start_version', 'install_date', 'appsflyer_id', 'is_organic', 'revenue_usd', 'ad_revenue_usd', 'sessions', 'playtime']]\n",
        "df_versions['activity_day'] = (df_versions['event_date']-df_versions['install_date']).dt.days\n",
        "df_versions"
      ],
      "metadata": {
        "id": "L-DumZMQyS4K"
      },
      "execution_count": null,
      "outputs": []
    },
    {
      "cell_type": "markdown",
      "source": [
        "Посмотрим инсталлы по каждой версии и оставим для расчета топ-3 по инсталлам"
      ],
      "metadata": {
        "id": "n1ZlEb5A1gC9"
      }
    },
    {
      "cell_type": "code",
      "source": [
        "df_top = df_versions.groupby('start_version', as_index=False).agg({'appsflyer_id':'nunique'}).rename(columns = {'appsflyer_id':'users'}).sort_values(by = 'users', ascending=False)\n",
        "top = list(df_top.head(3)['start_version'].values)\n",
        "top"
      ],
      "metadata": {
        "id": "JpJ4vf6cyMFz"
      },
      "execution_count": null,
      "outputs": []
    },
    {
      "cell_type": "code",
      "source": [
        "df_versions = df_versions[df_versions['start_version'].isin(top)]\n",
        "df_versions"
      ],
      "metadata": {
        "id": "MTYbGAMgyNY3"
      },
      "execution_count": null,
      "outputs": []
    },
    {
      "cell_type": "markdown",
      "source": [
        "Рассчитаем retention rate для каждого билда за 0-30 день активности"
      ],
      "metadata": {
        "id": "C7j5PQsV1dEH"
      }
    },
    {
      "cell_type": "code",
      "source": [
        "df_ret = df_versions[(df_versions['activity_day']>=0) & (df_versions['activity_day']<=30)].groupby(['start_version', 'activity_day'], as_index=False).agg({'appsflyer_id':'nunique'}).rename(columns = {'appsflyer_id':'users'})\n",
        "df_ret"
      ],
      "metadata": {
        "id": "O5UoEcKO0tAP"
      },
      "execution_count": null,
      "outputs": []
    },
    {
      "cell_type": "code",
      "source": [
        "df_installs = df_ret.groupby('start_version', as_index=False).agg({'users':'max'}).rename(columns = {'users':'installs'})\n",
        "\n",
        "df_ret = pd.merge(df_ret, df_installs, on='start_version')\n",
        "df_ret['ret_rate'] = df_ret['users'] / df_ret['installs']\n",
        "\n",
        "df_ret"
      ],
      "metadata": {
        "id": "_uffNzcL08JU"
      },
      "execution_count": null,
      "outputs": []
    },
    {
      "cell_type": "code",
      "source": [
        "fig1 = px.line(df_ret, x='activity_day', y='ret_rate', color='start_version')\n",
        "fig1.show()"
      ],
      "metadata": {
        "id": "FeKujNOp0-kF"
      },
      "execution_count": null,
      "outputs": []
    },
    {
      "cell_type": "markdown",
      "source": [
        "Для лучшего понимания деталей посмотрим на retention rate по версиям для 1-10 дней активности"
      ],
      "metadata": {
        "id": "FVXh4Fiu1Zew"
      }
    },
    {
      "cell_type": "code",
      "source": [
        "fig2 = px.line(df_ret, x='activity_day', y='ret_rate', color='start_version', range_x=[1,10], range_y=[0,0.3])\n",
        "fig2.show()"
      ],
      "metadata": {
        "id": "2xQDTs9Y1BZa"
      },
      "execution_count": null,
      "outputs": []
    },
    {
      "cell_type": "markdown",
      "source": [
        "Посмотрим средние значения метрик вовлеченности и LTV по топ-3 версиям"
      ],
      "metadata": {
        "id": "wd11tkYc1Vi-"
      }
    },
    {
      "cell_type": "code",
      "source": [
        "df_eng = df_versions.groupby(['appsflyer_id', 'start_version'], as_index=False).agg({'sessions':'sum', 'playtime':'sum', 'revenue_usd':'sum', 'ad_revenue_usd':'sum'})\n",
        "df_eng = df_eng.groupby('start_version', as_index = False).agg({'appsflyer_id':'nunique', 'sessions':'sum', 'playtime':'sum', 'revenue_usd':'sum', 'ad_revenue_usd':'sum'}).rename(columns = {'appsflyer_id':'users'})\n",
        "\n",
        "df_eng"
      ],
      "metadata": {
        "id": "vMgk45hkyAZb"
      },
      "execution_count": null,
      "outputs": []
    },
    {
      "cell_type": "code",
      "source": [
        "df_eng['sessions_per_user'] = df_eng['sessions'] / df_eng['users']\n",
        "df_eng['playtime_per_user'] = df_eng['playtime'] / df_eng['users']\n",
        "df_eng['average_session_length'] = df_eng['playtime'] / df_eng['sessions']\n",
        "df_eng['ltv'] = (df_eng['revenue_usd']+df_eng['ad_revenue_usd']) / df_eng['users']\n",
        "\n",
        "df_eng"
      ],
      "metadata": {
        "id": "_-S1TpVk1NeK"
      },
      "execution_count": null,
      "outputs": []
    },
    {
      "cell_type": "markdown",
      "source": [],
      "metadata": {
        "id": "mz0FkkqmSG8D"
      }
    },
    {
      "cell_type": "markdown",
      "source": [
        "Метрики роста не подходят для построения аналитики продукта, так как на них влияет не только продукт, но и маркетинг, и продвижение;\n",
        "Две ключевые метрики продукта — LTV и CAC;\n",
        "LTV — высокоуровневая метрика, поэтому ее следует декомпозировать на метрики продукта, привязанные к ключевым этапам жизненного цикла пользователя в приложении;\n",
        "Суть когортного анализа состоит в том, чтобы отслеживать ключевые метрики каждой отдельной когорты во времени;\n",
        "Когортный анализ позволяет объективно сравнивать разные версии продукта и оценивать влияние изменений на продукт."
      ],
      "metadata": {
        "id": "1pS0Nd6CoR8N"
      }
    }
  ]
}