{
  "cells": [
    {
      "cell_type": "markdown",
      "metadata": {
        "id": "13MYhMlfKlHC"
      },
      "source": [
        "Загружаем исходные данные в colab."
      ]
    },
    {
      "cell_type": "code",
      "execution_count": 1,
      "metadata": {
        "colab": {
          "base_uri": "https://localhost:8080/",
          "height": 73
        },
        "id": "4YqwZrBxJJGA",
        "outputId": "b7c4a843-1a43-4116-aea1-e0f8b5a00f98"
      },
      "outputs": [
        {
          "output_type": "display_data",
          "data": {
            "text/plain": [
              "<IPython.core.display.HTML object>"
            ],
            "text/html": [
              "\n",
              "     <input type=\"file\" id=\"files-837d8dab-a37d-4c5e-a6b8-e9d42604d585\" name=\"files[]\" multiple disabled\n",
              "        style=\"border:none\" />\n",
              "     <output id=\"result-837d8dab-a37d-4c5e-a6b8-e9d42604d585\">\n",
              "      Upload widget is only available when the cell has been executed in the\n",
              "      current browser session. Please rerun this cell to enable.\n",
              "      </output>\n",
              "      <script>// Copyright 2017 Google LLC\n",
              "//\n",
              "// Licensed under the Apache License, Version 2.0 (the \"License\");\n",
              "// you may not use this file except in compliance with the License.\n",
              "// You may obtain a copy of the License at\n",
              "//\n",
              "//      http://www.apache.org/licenses/LICENSE-2.0\n",
              "//\n",
              "// Unless required by applicable law or agreed to in writing, software\n",
              "// distributed under the License is distributed on an \"AS IS\" BASIS,\n",
              "// WITHOUT WARRANTIES OR CONDITIONS OF ANY KIND, either express or implied.\n",
              "// See the License for the specific language governing permissions and\n",
              "// limitations under the License.\n",
              "\n",
              "/**\n",
              " * @fileoverview Helpers for google.colab Python module.\n",
              " */\n",
              "(function(scope) {\n",
              "function span(text, styleAttributes = {}) {\n",
              "  const element = document.createElement('span');\n",
              "  element.textContent = text;\n",
              "  for (const key of Object.keys(styleAttributes)) {\n",
              "    element.style[key] = styleAttributes[key];\n",
              "  }\n",
              "  return element;\n",
              "}\n",
              "\n",
              "// Max number of bytes which will be uploaded at a time.\n",
              "const MAX_PAYLOAD_SIZE = 100 * 1024;\n",
              "\n",
              "function _uploadFiles(inputId, outputId) {\n",
              "  const steps = uploadFilesStep(inputId, outputId);\n",
              "  const outputElement = document.getElementById(outputId);\n",
              "  // Cache steps on the outputElement to make it available for the next call\n",
              "  // to uploadFilesContinue from Python.\n",
              "  outputElement.steps = steps;\n",
              "\n",
              "  return _uploadFilesContinue(outputId);\n",
              "}\n",
              "\n",
              "// This is roughly an async generator (not supported in the browser yet),\n",
              "// where there are multiple asynchronous steps and the Python side is going\n",
              "// to poll for completion of each step.\n",
              "// This uses a Promise to block the python side on completion of each step,\n",
              "// then passes the result of the previous step as the input to the next step.\n",
              "function _uploadFilesContinue(outputId) {\n",
              "  const outputElement = document.getElementById(outputId);\n",
              "  const steps = outputElement.steps;\n",
              "\n",
              "  const next = steps.next(outputElement.lastPromiseValue);\n",
              "  return Promise.resolve(next.value.promise).then((value) => {\n",
              "    // Cache the last promise value to make it available to the next\n",
              "    // step of the generator.\n",
              "    outputElement.lastPromiseValue = value;\n",
              "    return next.value.response;\n",
              "  });\n",
              "}\n",
              "\n",
              "/**\n",
              " * Generator function which is called between each async step of the upload\n",
              " * process.\n",
              " * @param {string} inputId Element ID of the input file picker element.\n",
              " * @param {string} outputId Element ID of the output display.\n",
              " * @return {!Iterable<!Object>} Iterable of next steps.\n",
              " */\n",
              "function* uploadFilesStep(inputId, outputId) {\n",
              "  const inputElement = document.getElementById(inputId);\n",
              "  inputElement.disabled = false;\n",
              "\n",
              "  const outputElement = document.getElementById(outputId);\n",
              "  outputElement.innerHTML = '';\n",
              "\n",
              "  const pickedPromise = new Promise((resolve) => {\n",
              "    inputElement.addEventListener('change', (e) => {\n",
              "      resolve(e.target.files);\n",
              "    });\n",
              "  });\n",
              "\n",
              "  const cancel = document.createElement('button');\n",
              "  inputElement.parentElement.appendChild(cancel);\n",
              "  cancel.textContent = 'Cancel upload';\n",
              "  const cancelPromise = new Promise((resolve) => {\n",
              "    cancel.onclick = () => {\n",
              "      resolve(null);\n",
              "    };\n",
              "  });\n",
              "\n",
              "  // Wait for the user to pick the files.\n",
              "  const files = yield {\n",
              "    promise: Promise.race([pickedPromise, cancelPromise]),\n",
              "    response: {\n",
              "      action: 'starting',\n",
              "    }\n",
              "  };\n",
              "\n",
              "  cancel.remove();\n",
              "\n",
              "  // Disable the input element since further picks are not allowed.\n",
              "  inputElement.disabled = true;\n",
              "\n",
              "  if (!files) {\n",
              "    return {\n",
              "      response: {\n",
              "        action: 'complete',\n",
              "      }\n",
              "    };\n",
              "  }\n",
              "\n",
              "  for (const file of files) {\n",
              "    const li = document.createElement('li');\n",
              "    li.append(span(file.name, {fontWeight: 'bold'}));\n",
              "    li.append(span(\n",
              "        `(${file.type || 'n/a'}) - ${file.size} bytes, ` +\n",
              "        `last modified: ${\n",
              "            file.lastModifiedDate ? file.lastModifiedDate.toLocaleDateString() :\n",
              "                                    'n/a'} - `));\n",
              "    const percent = span('0% done');\n",
              "    li.appendChild(percent);\n",
              "\n",
              "    outputElement.appendChild(li);\n",
              "\n",
              "    const fileDataPromise = new Promise((resolve) => {\n",
              "      const reader = new FileReader();\n",
              "      reader.onload = (e) => {\n",
              "        resolve(e.target.result);\n",
              "      };\n",
              "      reader.readAsArrayBuffer(file);\n",
              "    });\n",
              "    // Wait for the data to be ready.\n",
              "    let fileData = yield {\n",
              "      promise: fileDataPromise,\n",
              "      response: {\n",
              "        action: 'continue',\n",
              "      }\n",
              "    };\n",
              "\n",
              "    // Use a chunked sending to avoid message size limits. See b/62115660.\n",
              "    let position = 0;\n",
              "    do {\n",
              "      const length = Math.min(fileData.byteLength - position, MAX_PAYLOAD_SIZE);\n",
              "      const chunk = new Uint8Array(fileData, position, length);\n",
              "      position += length;\n",
              "\n",
              "      const base64 = btoa(String.fromCharCode.apply(null, chunk));\n",
              "      yield {\n",
              "        response: {\n",
              "          action: 'append',\n",
              "          file: file.name,\n",
              "          data: base64,\n",
              "        },\n",
              "      };\n",
              "\n",
              "      let percentDone = fileData.byteLength === 0 ?\n",
              "          100 :\n",
              "          Math.round((position / fileData.byteLength) * 100);\n",
              "      percent.textContent = `${percentDone}% done`;\n",
              "\n",
              "    } while (position < fileData.byteLength);\n",
              "  }\n",
              "\n",
              "  // All done.\n",
              "  yield {\n",
              "    response: {\n",
              "      action: 'complete',\n",
              "    }\n",
              "  };\n",
              "}\n",
              "\n",
              "scope.google = scope.google || {};\n",
              "scope.google.colab = scope.google.colab || {};\n",
              "scope.google.colab._files = {\n",
              "  _uploadFiles,\n",
              "  _uploadFilesContinue,\n",
              "};\n",
              "})(self);\n",
              "</script> "
            ]
          },
          "metadata": {}
        },
        {
          "output_type": "stream",
          "name": "stdout",
          "text": [
            "Saving dataset(1).csv to dataset(1).csv\n"
          ]
        }
      ],
      "source": [
        "from google.colab import files\n",
        "uploaded = files.upload()"
      ]
    },
    {
      "cell_type": "markdown",
      "metadata": {
        "id": "UHBLCQuqKpaW"
      },
      "source": [
        "Загружаем данные в датафрейм"
      ]
    },
    {
      "cell_type": "code",
      "execution_count": null,
      "metadata": {
        "colab": {
          "base_uri": "https://localhost:8080/",
          "height": 211
        },
        "id": "mRpSmNN9JORM",
        "outputId": "3eea1aa6-812c-406f-bb71-5cf48778671a"
      },
      "outputs": [
        {
          "output_type": "error",
          "ename": "NameError",
          "evalue": "name 'uploaded' is not defined",
          "traceback": [
            "\u001b[0;31m---------------------------------------------------------------------------\u001b[0m",
            "\u001b[0;31mNameError\u001b[0m                                 Traceback (most recent call last)",
            "\u001b[0;32m<ipython-input-1-ba18d9477e6e>\u001b[0m in \u001b[0;36m<cell line: 6>\u001b[0;34m()\u001b[0m\n\u001b[1;32m      4\u001b[0m \u001b[0;32mimport\u001b[0m \u001b[0mplotly\u001b[0m\u001b[0;34m.\u001b[0m\u001b[0mexpress\u001b[0m \u001b[0;32mas\u001b[0m \u001b[0mpx\u001b[0m\u001b[0;34m\u001b[0m\u001b[0;34m\u001b[0m\u001b[0m\n\u001b[1;32m      5\u001b[0m \u001b[0;34m\u001b[0m\u001b[0m\n\u001b[0;32m----> 6\u001b[0;31m \u001b[0mdf\u001b[0m \u001b[0;34m=\u001b[0m \u001b[0mpd\u001b[0m\u001b[0;34m.\u001b[0m\u001b[0mread_csv\u001b[0m\u001b[0;34m(\u001b[0m\u001b[0mio\u001b[0m\u001b[0;34m.\u001b[0m\u001b[0mBytesIO\u001b[0m\u001b[0;34m(\u001b[0m\u001b[0muploaded\u001b[0m\u001b[0;34m[\u001b[0m\u001b[0;34m'dataset (3).csv'\u001b[0m\u001b[0;34m]\u001b[0m\u001b[0;34m)\u001b[0m\u001b[0;34m)\u001b[0m\u001b[0;34m\u001b[0m\u001b[0;34m\u001b[0m\u001b[0m\n\u001b[0m\u001b[1;32m      7\u001b[0m \u001b[0;34m\u001b[0m\u001b[0m\n\u001b[1;32m      8\u001b[0m \u001b[0mdf\u001b[0m\u001b[0;34m\u001b[0m\u001b[0;34m\u001b[0m\u001b[0m\n",
            "\u001b[0;31mNameError\u001b[0m: name 'uploaded' is not defined"
          ]
        }
      ],
      "source": [
        "import io\n",
        "import pandas as pd\n",
        "import numpy as np\n",
        "import plotly.express as px\n",
        "\n",
        "df = pd.read_csv(io.BytesIO(uploaded['dataset (3).csv']))\n",
        "\n",
        "df"
      ]
    },
    {
      "cell_type": "code",
      "execution_count": null,
      "metadata": {
        "colab": {
          "background_save": true
        },
        "id": "q2dauP-aPDaU"
      },
      "outputs": [],
      "source": [
        "df['event_date'] = pd.to_datetime(df['event_date'])\n",
        "df['install_date'] = pd.to_datetime(df['install_date'])\n",
        "df.dtypes"
      ]
    },
    {
      "cell_type": "markdown",
      "metadata": {
        "id": "olV9vNScK2NT"
      },
      "source": [
        "Сегодня мы посмотрим метрики проекта в разрезе версионности - сравним их для различных билдов.\n",
        "\n",
        "Для начала посмотрим наименования версий проекта."
      ]
    },
    {
      "cell_type": "code",
      "execution_count": null,
      "metadata": {
        "colab": {
          "background_save": true
        },
        "id": "f2ZzGtc1LTDD"
      },
      "outputs": [],
      "source": [
        "df['app_version'].unique()"
      ]
    },
    {
      "cell_type": "markdown",
      "metadata": {
        "id": "-1qOfwesMCW_"
      },
      "source": [
        "Заменим nan значения на unknown"
      ]
    },
    {
      "cell_type": "code",
      "execution_count": null,
      "metadata": {
        "colab": {
          "background_save": true
        },
        "id": "KJbZ2GEIMFzH"
      },
      "outputs": [],
      "source": [
        "df['app_version'] = df['app_version'].fillna('unknown')\n",
        "df['app_version'].unique()"
      ]
    },
    {
      "cell_type": "markdown",
      "metadata": {
        "id": "V0iC_5PwMSdy"
      },
      "source": [
        "Для того, чтобы получить чистые данные при расчете метрик привяжем к каждому пользователю одну версию - ту, с которой он зашел в игру (в процессе пользования продуктом пользователи обновляют приложение и соответственно у каждого из них может быть несколько версий за лайфтайм)"
      ]
    },
    {
      "cell_type": "code",
      "execution_count": null,
      "metadata": {
        "colab": {
          "background_save": true
        },
        "id": "RIBrgUkpMW8-"
      },
      "outputs": [],
      "source": [
        "df_start_ver = df[df['event_date'] == df['install_date']][['appsflyer_id', 'app_version']].rename(columns = {'app_version':'start_version'})\n",
        "df = pd.merge(df, df_start_ver, on='appsflyer_id')\n",
        "df"
      ]
    },
    {
      "cell_type": "markdown",
      "metadata": {
        "id": "QfxxDjLRNtIq"
      },
      "source": [
        "Так как мы будем рассчитывать в том числе retention rate и LTV по каждой из версий, нам необходимо ограничить датасет временными рамками по когортам срок жизни которых достиг 30 дней и более.\n",
        "Напомним, что максимальный event date = 2022-07-31"
      ]
    },
    {
      "cell_type": "code",
      "execution_count": null,
      "metadata": {
        "id": "08sCidFgOFqJ"
      },
      "outputs": [],
      "source": [
        "df_versions = df[(df['install_date'] >= '2022-04-01') & (df['install_date'] <= '2022-07-01')][['event_date', 'start_version', 'install_date', 'appsflyer_id', 'is_organic', 'revenue_usd', 'ad_revenue_usd', 'sessions', 'playtime']]\n",
        "df_versions['activity_day'] = (df_versions['event_date']-df_versions['install_date']).dt.days\n",
        "df_versions"
      ]
    },
    {
      "cell_type": "markdown",
      "metadata": {
        "id": "ZDKj9zInPP7y"
      },
      "source": [
        "Посмотрим инсталлы по каждой версии и оставим для расчета топ-3 по инсталлам"
      ]
    },
    {
      "cell_type": "code",
      "execution_count": null,
      "metadata": {
        "id": "lMqo8_ujPUqn"
      },
      "outputs": [],
      "source": [
        "df_top = df_versions.groupby('start_version', as_index=False).agg({'appsflyer_id':'nunique'}).rename(columns = {'appsflyer_id':'users'}).sort_values(by = 'users', ascending=False)\n",
        "top = list(df_top.head(3)['start_version'].values)\n",
        "top"
      ]
    },
    {
      "cell_type": "code",
      "execution_count": null,
      "metadata": {
        "id": "oaP1BNYIQTcb"
      },
      "outputs": [],
      "source": [
        "df_versions = df_versions[df_versions['start_version'].isin(top)]\n",
        "df_versions"
      ]
    },
    {
      "cell_type": "markdown",
      "metadata": {
        "id": "2gPOhoT6Qqbm"
      },
      "source": [
        "Рассчитаем retention rate для каждого билда за 0-30 день активности"
      ]
    },
    {
      "cell_type": "code",
      "execution_count": null,
      "metadata": {
        "id": "tlHuJebXQv-b"
      },
      "outputs": [],
      "source": [
        "df_ret = df_versions[(df_versions['activity_day']>=0) & (df_versions['activity_day']<=30)].groupby(['start_version', 'activity_day'], as_index=False).agg({'appsflyer_id':'nunique'}).rename(columns = {'appsflyer_id':'users'})\n",
        "df_ret"
      ]
    },
    {
      "cell_type": "code",
      "execution_count": null,
      "metadata": {
        "id": "BeILgTDmRQ-A"
      },
      "outputs": [],
      "source": [
        "df_installs = df_ret.groupby('start_version', as_index=False).agg({'users':'max'}).rename(columns = {'users':'installs'})\n",
        "\n",
        "df_ret = pd.merge(df_ret, df_installs, on='start_version')\n",
        "df_ret['ret_rate'] = df_ret['users'] / df_ret['installs']\n",
        "\n",
        "df_ret"
      ]
    },
    {
      "cell_type": "code",
      "execution_count": null,
      "metadata": {
        "id": "0-6YzjRgR2WN"
      },
      "outputs": [],
      "source": [
        "fig1 = px.line(df_ret, x='activity_day', y='ret_rate', color='start_version')\n",
        "fig1.show()"
      ]
    },
    {
      "cell_type": "markdown",
      "metadata": {
        "id": "ZlLLIaXoSDOi"
      },
      "source": [
        "Какие выводы можно сделать из полученных результатов?\n",
        "\n",
        "Для лучшего понимания деталей посмотрим на retention rate по версиям для 1-10 дней активности"
      ]
    },
    {
      "cell_type": "code",
      "execution_count": null,
      "metadata": {
        "id": "DJg_YpoQSZRY"
      },
      "outputs": [],
      "source": [
        "fig2 = px.line(df_ret, x='activity_day', y='ret_rate', color='start_version', range_x=[1,10], range_y=[0,0.3])\n",
        "fig2.show()"
      ]
    },
    {
      "cell_type": "markdown",
      "metadata": {
        "id": "JRBpjnpaSwip"
      },
      "source": [
        "Посмотрим средние значения метрик вовлеченности и LTV по топ-3 версиям"
      ]
    },
    {
      "cell_type": "code",
      "execution_count": null,
      "metadata": {
        "id": "0o8dwGzlS3qp"
      },
      "outputs": [],
      "source": [
        "df_eng = df_versions.groupby(['appsflyer_id', 'start_version'], as_index=False).agg({'sessions':'sum', 'playtime':'sum', 'revenue_usd':'sum', 'ad_revenue_usd':'sum'})\n",
        "df_eng = df_eng.groupby('start_version', as_index = False).agg({'appsflyer_id':'nunique', 'sessions':'sum', 'playtime':'sum', 'revenue_usd':'sum', 'ad_revenue_usd':'sum'}).rename(columns = {'appsflyer_id':'users'})\n",
        "\n",
        "df_eng"
      ]
    },
    {
      "cell_type": "code",
      "execution_count": null,
      "metadata": {
        "id": "cMmMHdyRT8OY"
      },
      "outputs": [],
      "source": [
        "df_eng['sessions_per_user'] = df_eng['sessions'] / df_eng['users']\n",
        "df_eng['playtime_per_user'] = df_eng['playtime'] / df_eng['users']\n",
        "df_eng['average_session_length'] = df_eng['playtime'] / df_eng['sessions']\n",
        "df_eng['ltv'] = (df_eng['revenue_usd']+df_eng['ad_revenue_usd']) / df_eng['users']\n",
        "\n",
        "df_eng"
      ]
    },
    {
      "cell_type": "markdown",
      "metadata": {
        "id": "PvpeYll0U2Oh"
      },
      "source": [
        "Сделайте выводы по полученным результатам."
      ]
    },
    {
      "cell_type": "markdown",
      "metadata": {
        "id": "zogRPvlKU66e"
      },
      "source": [
        "# Домашнее задание"
      ]
    },
    {
      "cell_type": "markdown",
      "metadata": {
        "id": "mv6V_3oVU9kb"
      },
      "source": [
        "*Просчитайте и проанализируйте основные метрики для топ-5 билдов по инсталлам.*"
      ]
    },
    {
      "cell_type": "markdown",
      "metadata": {
        "id": "k_fZ8oEDTXx1"
      },
      "source": [
        "Сформируем список топ-5 билдов по инсталлам"
      ]
    },
    {
      "cell_type": "code",
      "execution_count": null,
      "metadata": {
        "id": "qbNEfiQmPQd_"
      },
      "outputs": [],
      "source": [
        "df_installs = df_ret.groupby('start_version', as_index=False).agg({'users':'max'}).rename(columns = {'users':'installs'})\n",
        "\n",
        "df_ret = pd.merge(df_ret, df_installs, on='start_version')\n",
        "df_ret['ret_rate'] = df_ret['users'] / df_ret['installs']\n",
        "\n",
        "df_ret"
      ]
    },
    {
      "cell_type": "markdown",
      "metadata": {
        "id": "tVvzxBWQQQSh"
      },
      "source": [
        "\"payments\", \"revenue_usd\", \"ad_revenue_usd\", \"sessions\", \"playtime\""
      ]
    },
    {
      "cell_type": "code",
      "execution_count": null,
      "metadata": {
        "id": "GeLv5ZsEkt9J"
      },
      "outputs": [],
      "source": [
        "df_top_inst = df.groupby('app_version', as_index=False).agg({'appsflyer_id':'nunique'}).rename(columns = {'appsflyer_id':'users'}).sort_values(by='users', ascending=False).head(5)\n",
        "top_inst"
      ]
    }
  ],
  "metadata": {
    "colab": {
      "provenance": []
    },
    "kernelspec": {
      "display_name": "Python 3",
      "name": "python3"
    },
    "language_info": {
      "name": "python"
    }
  },
  "nbformat": 4,
  "nbformat_minor": 0
}